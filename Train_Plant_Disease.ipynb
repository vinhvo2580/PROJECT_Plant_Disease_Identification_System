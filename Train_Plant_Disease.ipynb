{
 "cells": [
  {
   "cell_type": "markdown",
   "id": "5805a987-2c75-4cb1-8abf-03d8887ae5c7",
   "metadata": {},
   "source": [
    "## Plant Disease Prediction"
   ]
  },
  {
   "cell_type": "markdown",
   "id": "729131d3-08de-40ff-9b36-25a452f5b698",
   "metadata": {},
   "source": [
    "### Importing Dataset"
   ]
  },
  {
   "cell_type": "code",
   "execution_count": 2,
   "id": "7c40f28a-fb7e-4778-b8ee-004948261dc2",
   "metadata": {},
   "outputs": [],
   "source": [
    "import tensorflow as tf\n",
    "import matplotlib.pyplot as plt\n",
    "import pandas as pd\n",
    "import seaborn as sns\n",
    "from tensorflow.keras.models import Sequential\n",
    "from PIL import Image\n",
    "from tensorflow.keras.preprocessing.image import ImageDataGenerator, load_img\n",
    "from tensorflow.keras.layers import Conv2D, MaxPooling2D, Dense, Flatten, Dropout"
   ]
  },
  {
   "cell_type": "code",
   "execution_count": 3,
   "id": "87acd3d1-e6d5-4461-af9f-2109bc451689",
   "metadata": {},
   "outputs": [
    {
     "name": "stdout",
     "output_type": "stream",
     "text": [
      "Found 2281 files belonging to 38 classes.\n"
     ]
    }
   ],
   "source": [
    "training_set = tf.keras.utils.image_dataset_from_directory(\n",
    "    'train',\n",
    "    labels=\"inferred\",\n",
    "    label_mode=\"categorical\",\n",
    "    class_names=None,\n",
    "    color_mode=\"rgb\",\n",
    "    batch_size=32,\n",
    "    image_size=(128, 128),\n",
    "    shuffle=True,\n",
    "    seed=None,\n",
    "    validation_split=None,\n",
    "    subset=None,\n",
    "    interpolation=\"bilinear\",\n",
    "    follow_links=False,\n",
    "    crop_to_aspect_ratio=False\n",
    ")"
   ]
  },
  {
   "cell_type": "code",
   "execution_count": 4,
   "id": "13c7b9f8-de55-4d3e-a074-094fba2a62a5",
   "metadata": {},
   "outputs": [
    {
     "name": "stdout",
     "output_type": "stream",
     "text": [
      "Found 1392 files belonging to 38 classes.\n"
     ]
    }
   ],
   "source": [
    "validation_set = tf.keras.utils.image_dataset_from_directory(\n",
    "    'valid',\n",
    "    labels=\"inferred\",\n",
    "    label_mode=\"categorical\",\n",
    "    class_names=None,\n",
    "    color_mode=\"rgb\",\n",
    "    batch_size=32,\n",
    "    image_size=(128, 128),\n",
    "    shuffle=True,\n",
    "    seed=None,\n",
    "    validation_split=None,\n",
    "    subset=None,\n",
    "    interpolation=\"bilinear\",\n",
    "    follow_links=False,\n",
    "    crop_to_aspect_ratio=False\n",
    ")"
   ]
  },
  {
   "cell_type": "markdown",
   "id": "94fa6150-8ce8-467b-9e94-c9c4b9923857",
   "metadata": {},
   "source": [
    "### Building Model"
   ]
  },
  {
   "cell_type": "markdown",
   "id": "2b39e9cb-d26f-4b8a-b779-ec99ea43632a",
   "metadata": {},
   "source": [
    "### Building Convolution Layer"
   ]
  },
  {
   "cell_type": "code",
   "execution_count": 5,
   "id": "b7cc9e05-02d6-4160-88b6-e86df1814d92",
   "metadata": {},
   "outputs": [],
   "source": [
    "model = Sequential()\n",
    "\n",
    "model.add(Conv2D(32, (3,3), padding = 'same', activation = 'relu', input_shape = [128, 128, 3]))\n",
    "model.add(Conv2D(32, (3,3), activation = 'relu'))\n",
    "model.add(MaxPooling2D(pool_size = (2,2), strides = (2,2)))\n",
    "\n",
    "model.add(Conv2D(64, (3,3), padding = 'same', activation = 'relu', input_shape = [128, 128, 3]))\n",
    "model.add(Conv2D(64, (3,3), activation = 'relu'))\n",
    "model.add(MaxPooling2D(pool_size = (2,2), strides = (2,2)))\n",
    "\n",
    "model.add(Conv2D(128, (3,3), padding = 'same', activation = 'relu', input_shape = [128, 128, 3]))\n",
    "model.add(Conv2D(128, (3,3), activation = 'relu'))\n",
    "model.add(MaxPooling2D(pool_size = (2,2), strides = (2,2)))\n",
    "\n",
    "model.add(Conv2D(256, (3,3), padding = 'same', activation = 'relu', input_shape = [128, 128, 3]))\n",
    "model.add(Conv2D(256, (3,3), activation = 'relu'))\n",
    "model.add(MaxPooling2D(pool_size = (2,2), strides = (2,2)))\n",
    "\n",
    "model.add(Conv2D(512, (3,3), padding = 'same', activation = 'relu', input_shape = [128, 128, 3]))\n",
    "model.add(Conv2D(512, (3,3), activation = 'relu'))\n",
    "model.add(MaxPooling2D(pool_size = (2,2), strides = (2,2)))\n",
    "\n",
    "model.add(Dropout(0.25))\n",
    "model.add(Flatten())\n",
    "model.add(Dense(1500, activation = 'relu'))\n",
    "model.add(Dropout(0.4)) # To avoid overfitting\n",
    "model.add(Dense(38, activation = 'softmax'))\n"
   ]
  },
  {
   "cell_type": "markdown",
   "id": "618fdf92-bbae-4ddd-9d28-8b8feeb652b6",
   "metadata": {},
   "source": [
    "### Compiling and Training Phase "
   ]
  },
  {
   "cell_type": "code",
   "execution_count": 6,
   "id": "54f27cc7-4905-4bf1-a3b8-cd58f4dc02f2",
   "metadata": {},
   "outputs": [
    {
     "name": "stdout",
     "output_type": "stream",
     "text": [
      "Model: \"sequential\"\n",
      "_________________________________________________________________\n",
      "Layer (type)                 Output Shape              Param #   \n",
      "=================================================================\n",
      "conv2d (Conv2D)              (None, 128, 128, 32)      896       \n",
      "_________________________________________________________________\n",
      "conv2d_1 (Conv2D)            (None, 126, 126, 32)      9248      \n",
      "_________________________________________________________________\n",
      "max_pooling2d (MaxPooling2D) (None, 63, 63, 32)        0         \n",
      "_________________________________________________________________\n",
      "conv2d_2 (Conv2D)            (None, 63, 63, 64)        18496     \n",
      "_________________________________________________________________\n",
      "conv2d_3 (Conv2D)            (None, 61, 61, 64)        36928     \n",
      "_________________________________________________________________\n",
      "max_pooling2d_1 (MaxPooling2 (None, 30, 30, 64)        0         \n",
      "_________________________________________________________________\n",
      "conv2d_4 (Conv2D)            (None, 30, 30, 128)       73856     \n",
      "_________________________________________________________________\n",
      "conv2d_5 (Conv2D)            (None, 28, 28, 128)       147584    \n",
      "_________________________________________________________________\n",
      "max_pooling2d_2 (MaxPooling2 (None, 14, 14, 128)       0         \n",
      "_________________________________________________________________\n",
      "conv2d_6 (Conv2D)            (None, 14, 14, 256)       295168    \n",
      "_________________________________________________________________\n",
      "conv2d_7 (Conv2D)            (None, 12, 12, 256)       590080    \n",
      "_________________________________________________________________\n",
      "max_pooling2d_3 (MaxPooling2 (None, 6, 6, 256)         0         \n",
      "_________________________________________________________________\n",
      "conv2d_8 (Conv2D)            (None, 6, 6, 512)         1180160   \n",
      "_________________________________________________________________\n",
      "conv2d_9 (Conv2D)            (None, 4, 4, 512)         2359808   \n",
      "_________________________________________________________________\n",
      "max_pooling2d_4 (MaxPooling2 (None, 2, 2, 512)         0         \n",
      "_________________________________________________________________\n",
      "dropout (Dropout)            (None, 2, 2, 512)         0         \n",
      "_________________________________________________________________\n",
      "flatten (Flatten)            (None, 2048)              0         \n",
      "_________________________________________________________________\n",
      "dense (Dense)                (None, 1500)              3073500   \n",
      "_________________________________________________________________\n",
      "dropout_1 (Dropout)          (None, 1500)              0         \n",
      "_________________________________________________________________\n",
      "dense_1 (Dense)              (None, 38)                57038     \n",
      "=================================================================\n",
      "Total params: 7,842,762\n",
      "Trainable params: 7,842,762\n",
      "Non-trainable params: 0\n",
      "_________________________________________________________________\n"
     ]
    }
   ],
   "source": [
    "from tensorflow.keras.optimizers import Adam\n",
    "model.compile(loss = 'categorical_crossentropy', optimizer = Adam(learning_rate = 0.0001), metrics = ['accuracy'])\n",
    "model.summary()"
   ]
  },
  {
   "cell_type": "code",
   "execution_count": 8,
   "id": "0d2f8efc-d237-4248-95cc-56cebfe56a05",
   "metadata": {},
   "outputs": [
    {
     "name": "stdout",
     "output_type": "stream",
     "text": [
      "Epoch 1/10\n",
      "72/72 [==============================] - 159s 2s/step - loss: 3.6509 - accuracy: 0.0324 - val_loss: 3.5926 - val_accuracy: 0.0402\n",
      "Epoch 2/10\n",
      "72/72 [==============================] - 162s 2s/step - loss: 3.4366 - accuracy: 0.0802 - val_loss: 3.1517 - val_accuracy: 0.1336\n",
      "Epoch 3/10\n",
      "72/72 [==============================] - 160s 2s/step - loss: 3.0947 - accuracy: 0.1482 - val_loss: 3.1340 - val_accuracy: 0.1415\n",
      "Epoch 4/10\n",
      "72/72 [==============================] - 165s 2s/step - loss: 2.6955 - accuracy: 0.2372 - val_loss: 2.4108 - val_accuracy: 0.2967\n",
      "Epoch 5/10\n",
      "72/72 [==============================] - 164s 2s/step - loss: 2.3139 - accuracy: 0.3297 - val_loss: 2.3932 - val_accuracy: 0.2981\n",
      "Epoch 6/10\n",
      "72/72 [==============================] - 162s 2s/step - loss: 1.9566 - accuracy: 0.4253 - val_loss: 2.0543 - val_accuracy: 0.4080\n",
      "Epoch 7/10\n",
      "72/72 [==============================] - 162s 2s/step - loss: 1.6375 - accuracy: 0.4915 - val_loss: 1.6341 - val_accuracy: 0.5216\n",
      "Epoch 8/10\n",
      "72/72 [==============================] - 161s 2s/step - loss: 1.4627 - accuracy: 0.5489 - val_loss: 1.4916 - val_accuracy: 0.5625\n",
      "Epoch 9/10\n",
      "72/72 [==============================] - 185s 3s/step - loss: 1.1089 - accuracy: 0.6602 - val_loss: 1.6095 - val_accuracy: 0.5546\n",
      "Epoch 10/10\n",
      "72/72 [==============================] - 186s 3s/step - loss: 0.9987 - accuracy: 0.6892 - val_loss: 1.3344 - val_accuracy: 0.6185\n"
     ]
    }
   ],
   "source": [
    "training_history = model.fit(x= training_set, validation_data = validation_set, epochs = 10)"
   ]
  },
  {
   "cell_type": "markdown",
   "id": "7bc1092b",
   "metadata": {},
   "source": [
    "## Evaluating Model"
   ]
  },
  {
   "cell_type": "code",
   "execution_count": 11,
   "id": "6e056f0c",
   "metadata": {},
   "outputs": [
    {
     "name": "stdout",
     "output_type": "stream",
     "text": [
      "72/72 [==============================] - 24s 340ms/step - loss: 0.5179 - accuracy: 0.8536\n",
      "Training accuracy: 0.8535729646682739\n"
     ]
    }
   ],
   "source": [
    "#Training set Accuracy\n",
    "train_loss, train_acc = model.evaluate(training_set)\n",
    "print('Training accuracy:', train_acc)"
   ]
  },
  {
   "cell_type": "code",
   "execution_count": 12,
   "id": "d304f76c",
   "metadata": {},
   "outputs": [
    {
     "name": "stdout",
     "output_type": "stream",
     "text": [
      "44/44 [==============================] - 16s 365ms/step - loss: 1.3344 - accuracy: 0.6185\n",
      "Validation accuracy: 0.618534505367279\n"
     ]
    }
   ],
   "source": [
    "#Validation set Accuracy\n",
    "val_loss, val_acc = model.evaluate(validation_set)\n",
    "print('Validation accuracy:', val_acc)"
   ]
  },
  {
   "cell_type": "markdown",
   "id": "fa229ad9",
   "metadata": {},
   "source": [
    "### Saving Model"
   ]
  },
  {
   "cell_type": "code",
   "execution_count": 13,
   "id": "64ecbdb5",
   "metadata": {},
   "outputs": [],
   "source": [
    "model.save('trained_plant_disease_model.keras')"
   ]
  },
  {
   "cell_type": "code",
   "execution_count": 14,
   "id": "158e2388",
   "metadata": {},
   "outputs": [
    {
     "data": {
      "text/plain": [
       "{'loss': [3.650904893875122,\n",
       "  3.4366366863250732,\n",
       "  3.094736099243164,\n",
       "  2.695472002029419,\n",
       "  2.3139030933380127,\n",
       "  1.9565671682357788,\n",
       "  1.6374921798706055,\n",
       "  1.4627044200897217,\n",
       "  1.108853816986084,\n",
       "  0.9986776113510132],\n",
       " 'accuracy': [0.03244191035628319,\n",
       "  0.08022797107696533,\n",
       "  0.14818061888217926,\n",
       "  0.23717667162418365,\n",
       "  0.3296799659729004,\n",
       "  0.4252520799636841,\n",
       "  0.49145111441612244,\n",
       "  0.5488820672035217,\n",
       "  0.6602367162704468,\n",
       "  0.6891714334487915],\n",
       " 'val_loss': [3.592625141143799,\n",
       "  3.1517035961151123,\n",
       "  3.1340248584747314,\n",
       "  2.410775661468506,\n",
       "  2.393197536468506,\n",
       "  2.0543341636657715,\n",
       "  1.6341073513031006,\n",
       "  1.4915696382522583,\n",
       "  1.609474778175354,\n",
       "  1.3343948125839233],\n",
       " 'val_accuracy': [0.04022988677024841,\n",
       "  0.13362069427967072,\n",
       "  0.14152298867702484,\n",
       "  0.29669541120529175,\n",
       "  0.29813218116760254,\n",
       "  0.4080459773540497,\n",
       "  0.5215517282485962,\n",
       "  0.5625,\n",
       "  0.5545976758003235,\n",
       "  0.618534505367279]}"
      ]
     },
     "execution_count": 14,
     "metadata": {},
     "output_type": "execute_result"
    }
   ],
   "source": [
    "training_history.history #Return Dictionary of history"
   ]
  },
  {
   "cell_type": "code",
   "execution_count": 15,
   "id": "debae272",
   "metadata": {},
   "outputs": [],
   "source": [
    "#Recording History in json\n",
    "import json\n",
    "with open('training_hist.json','w') as f:\n",
    "  json.dump(training_history.history,f)"
   ]
  },
  {
   "cell_type": "code",
   "execution_count": 16,
   "id": "444bbd42",
   "metadata": {},
   "outputs": [
    {
     "name": "stdout",
     "output_type": "stream",
     "text": [
      "dict_keys(['loss', 'accuracy', 'val_loss', 'val_accuracy'])\n"
     ]
    }
   ],
   "source": [
    "print(training_history.history.keys())"
   ]
  }
 ],
 "metadata": {
  "kernelspec": {
   "display_name": "Python 3",
   "language": "python",
   "name": "python3"
  },
  "language_info": {
   "codemirror_mode": {
    "name": "ipython",
    "version": 3
   },
   "file_extension": ".py",
   "mimetype": "text/x-python",
   "name": "python",
   "nbconvert_exporter": "python",
   "pygments_lexer": "ipython3",
   "version": "3.6.13"
  }
 },
 "nbformat": 4,
 "nbformat_minor": 5
}
